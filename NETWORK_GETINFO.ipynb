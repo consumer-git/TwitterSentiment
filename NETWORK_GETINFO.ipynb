{
 "cells": [
  {
   "cell_type": "code",
   "execution_count": 1,
   "metadata": {},
   "outputs": [],
   "source": [
    "import tweepy\n",
    "import pandas as pd\n",
    "from queue import Queue\n",
    "q = Queue()\n",
    "\n"
   ]
  },
  {
   "cell_type": "code",
   "execution_count": 2,
   "metadata": {},
   "outputs": [],
   "source": [
    "# API Authentication\n",
    "\n",
    "CONSUMER_KEY = 'hheqJPV07LZzIBCVGFEUt2ojI'\n",
    "CONSUMER_SECRET = 'X3x4ausVn0KYLmclg6pAnPp4esnJ532J6z2Sla3QB1yAr37VKl'\n",
    "ACCESS_TOKEN = '1065450120433553410-6H5N0JJYAdji06KNE3ozlgJj1zgeOL'\n",
    "ACCESS_TOKEN_SECRET = '5kCiBBcDGOfwkmORFHD4cVVaNOAujUu29ML087KXsLlTn'"
   ]
  },
  {
   "cell_type": "code",
   "execution_count": 3,
   "metadata": {},
   "outputs": [],
   "source": [
    "\n",
    "\n",
    "auth = tweepy.OAuthHandler(CONSUMER_KEY, CONSUMER_SECRET)\n",
    "auth.set_access_token(ACCESS_TOKEN, ACCESS_TOKEN_SECRET)\n",
    "\n",
    "api = tweepy.API(auth,wait_on_rate_limit=True,wait_on_rate_limit_notify=True)\n"
   ]
  },
  {
   "cell_type": "code",
   "execution_count": 4,
   "metadata": {},
   "outputs": [],
   "source": [
    "# Output details\n",
    "out_user = '/Users/merrillsequeira/Documents/docs/UPGRAD_PGDDS_MODULES/PRACTICE_J/twitter_sentiment3/user_details.csv'\n",
    "out_followers = '/Users/merrillsequeira/Documents/docs/UPGRAD_PGDDS_MODULES/PRACTICE_J/twitter_sentiment3/followers.csv'\n",
    "out_skip = '/Users/merrillsequeira/Documents/docs/UPGRAD_PGDDS_MODULES/PRACTICE_J/twitter_sentiment3/skip.csv'\n",
    "\n",
    "\n"
   ]
  },
  {
   "cell_type": "code",
   "execution_count": 5,
   "metadata": {},
   "outputs": [],
   "source": [
    "\n",
    "# Setting up data frames with initial user\n",
    "user = api.get_user('@TheAcademy')\n",
    "user_details = {'name':user.name,\n",
    "     'screen_name':user.screen_name,\n",
    "     'created_at':str(user.created_at),\n",
    "     'id':user.id,\n",
    "     'friends_count':user.friends_count,\n",
    "     'followers_count':user.followers_count}\n",
    "master_followers = pd.DataFrame({'id':user.id,'followers':user.followers_ids()})\n",
    "master_user_details = pd.DataFrame([user_details])\n",
    "\n",
    "\n"
   ]
  },
  {
   "cell_type": "code",
   "execution_count": 6,
   "metadata": {},
   "outputs": [],
   "source": [
    "\n",
    "# Setting up skip_listlist\n",
    "skip_list = []\n",
    "skip_list.append(user_details['id'])\n",
    "skip_df = pd.DataFrame({'id':user.id},index=[0])\n"
   ]
  },
  {
   "cell_type": "code",
   "execution_count": 7,
   "metadata": {},
   "outputs": [],
   "source": [
    "# Exporting initial master files\n",
    "master_user_details.to_csv(out_user,index=False)\n",
    "master_followers.to_csv(out_followers,index=False)\n",
    "skip_df.to_csv(out_skip,index=False)"
   ]
  },
  {
   "cell_type": "code",
   "execution_count": 8,
   "metadata": {},
   "outputs": [
    {
     "name": "stdout",
     "output_type": "stream",
     "text": [
      "5000\n"
     ]
    }
   ],
   "source": [
    "# Putting initial follower seed in queue\n",
    "list(map(q.put,master_followers['followers']))\n",
    "print (len(list(q.queue)))"
   ]
  },
  {
   "cell_type": "code",
   "execution_count": null,
   "metadata": {},
   "outputs": [
    {
     "name": "stdout",
     "output_type": "stream",
     "text": [
      "5019\n",
      "5218\n",
      "5217\n",
      "5233\n",
      "5232\n",
      "5234\n",
      "5433\n",
      "5492\n",
      "5491\n",
      "5577\n",
      "5578\n",
      "5609\n",
      "<class 'tweepy.error.TweepError'>\n",
      "Cant access user data - not authorized.\n"
     ]
    },
    {
     "name": "stderr",
     "output_type": "stream",
     "text": [
      "Rate limit reached. Sleeping for: 573\n"
     ]
    }
   ],
   "source": [
    "while not q.empty():\n",
    "    u = q.get()\n",
    "    if u in skip_list:\n",
    "        continue\n",
    "    else:\n",
    "            try:\n",
    "                # API call to get user data\n",
    "                user = api.get_user(u)\n",
    "                user_details = {'name':user.name,\n",
    "                                'screen_name':user.screen_name,\n",
    "                                'created_at':str(user.created_at),\n",
    "                                'id':user.id,\n",
    "                                'friends_count':user.friends_count,\n",
    "                                'followers_count':user.followers_count}\n",
    "                \n",
    "                # Adding to skip list\n",
    "                skip_list.append(user_details['id'])\n",
    "                skip_df = pd.DataFrame({'id':user.id},index=[0])\n",
    "                \n",
    "                # Appending user data to master list\n",
    "                user_details = pd.DataFrame([user_details])\n",
    "                master_user_details = master_user_details.append(user_details)\n",
    "                \n",
    "                # Getting followers and appending to master list\n",
    "                followers = pd.DataFrame({'id':user.id,'followers':user.followers_ids()})\n",
    "                if followers.shape[0] > 200:\n",
    "                    followers = followers.sample(200)\n",
    "                else:\n",
    "                    pass\n",
    "                master_followers = master_followers.append(followers)\n",
    "                \n",
    "                # Adding retrieved followers to queue\n",
    "                list(map(q.put,followers['followers']))\n",
    "                            \n",
    "                # Exporting user and followers to CSV\n",
    "                user_details.to_csv(out_user,index=False,mode='a',header=False)\n",
    "                followers.to_csv(out_followers,index=False,mode='a',header=False)\n",
    "                skip_df.to_csv(out_skip,index=False,mode='a',header=False)\n",
    "                \n",
    "                print (len(list(q.queue)))\n",
    "                \n",
    "            # Error handling\n",
    "            except tweepy.TweepError as error:\n",
    "                print (type(error))\n",
    "        \n",
    "                if str(error) == 'Not authorized.':\n",
    "                    print ('Can''t access user data - not authorized.')\n",
    "                    skip_list.append(u)\n",
    "                    skip_df = pd.DataFrame({'id':u},index=[0])\n",
    "                    skip_df.to_csv(out_skip,index=False,mode='a',header=False)\n",
    "        \n",
    "                if str(error) == 'User has been suspended.':\n",
    "                    print ('User suspended.')\n",
    "                    skip_list.append(u)\n",
    "                    skip_df = pd.DataFrame({'id':u},index=[0])\n",
    "                    skip_df.to_csv(out_skip,index=False,mode='a',header=False)    "
   ]
  },
  {
   "cell_type": "code",
   "execution_count": null,
   "metadata": {},
   "outputs": [],
   "source": []
  }
 ],
 "metadata": {
  "kernelspec": {
   "display_name": "Python 3",
   "language": "python",
   "name": "python3"
  },
  "language_info": {
   "codemirror_mode": {
    "name": "ipython",
    "version": 3
   },
   "file_extension": ".py",
   "mimetype": "text/x-python",
   "name": "python",
   "nbconvert_exporter": "python",
   "pygments_lexer": "ipython3",
   "version": "3.7.6"
  }
 },
 "nbformat": 4,
 "nbformat_minor": 4
}
