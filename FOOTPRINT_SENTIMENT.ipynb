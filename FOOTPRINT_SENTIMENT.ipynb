{
 "cells": [
  {
   "cell_type": "code",
   "execution_count": 25,
   "metadata": {
    "id": "JpZPTSZ83DOS"
   },
   "outputs": [],
   "source": [
    "import numpy as np \n",
    "import pandas as pd \n",
    "import tweepy"
   ]
  },
  {
   "cell_type": "code",
   "execution_count": 26,
   "metadata": {
    "id": "LmMusMfD3DOU"
   },
   "outputs": [],
   "source": [
    "df_user_details=pd.read_csv('user_details.csv') #More detailed information about a user (friend count, followers count)  "
   ]
  },
  {
   "cell_type": "code",
   "execution_count": 27,
   "metadata": {
    "id": "9MP-RrfU3DOV"
   },
   "outputs": [],
   "source": [
    "df_followers=pd.read_csv('followers.csv')  #The follower network as Twitter ids"
   ]
  },
  {
   "cell_type": "code",
   "execution_count": 28,
   "metadata": {
    "id": "skM1dhy83DOV"
   },
   "outputs": [],
   "source": [
    "df_skip=pd.read_csv('skip.csv')   # A master record of which ids have had their followers retrieved"
   ]
  },
  {
   "cell_type": "code",
   "execution_count": 29,
   "metadata": {
    "colab": {
     "base_uri": "https://localhost:8080/",
     "height": 204
    },
    "id": "QbkxnDC63DOV",
    "outputId": "d560916c-aa5f-43e3-8157-089897f86aea"
   },
   "outputs": [
    {
     "data": {
      "text/html": [
       "<div>\n",
       "<style scoped>\n",
       "    .dataframe tbody tr th:only-of-type {\n",
       "        vertical-align: middle;\n",
       "    }\n",
       "\n",
       "    .dataframe tbody tr th {\n",
       "        vertical-align: top;\n",
       "    }\n",
       "\n",
       "    .dataframe thead th {\n",
       "        text-align: right;\n",
       "    }\n",
       "</style>\n",
       "<table border=\"1\" class=\"dataframe\">\n",
       "  <thead>\n",
       "    <tr style=\"text-align: right;\">\n",
       "      <th></th>\n",
       "      <th>name</th>\n",
       "      <th>screen_name</th>\n",
       "      <th>created_at</th>\n",
       "      <th>id</th>\n",
       "      <th>friends_count</th>\n",
       "      <th>followers_count</th>\n",
       "    </tr>\n",
       "  </thead>\n",
       "  <tbody>\n",
       "    <tr>\n",
       "      <th>0</th>\n",
       "      <td>The Academy</td>\n",
       "      <td>TheAcademy</td>\n",
       "      <td>2010-10-08 16:09:08</td>\n",
       "      <td>200163448</td>\n",
       "      <td>2185</td>\n",
       "      <td>3663377</td>\n",
       "    </tr>\n",
       "    <tr>\n",
       "      <th>1</th>\n",
       "      <td>Sergio P.Burguera</td>\n",
       "      <td>PozaSergio</td>\n",
       "      <td>2020-12-27 19:12:36</td>\n",
       "      <td>1343273549428097027</td>\n",
       "      <td>512</td>\n",
       "      <td>20</td>\n",
       "    </tr>\n",
       "    <tr>\n",
       "      <th>2</th>\n",
       "      <td>Carmen Ava Maria</td>\n",
       "      <td>CarmenAvaMaria1</td>\n",
       "      <td>2018-11-05 12:20:13</td>\n",
       "      <td>1059420115094200320</td>\n",
       "      <td>1325</td>\n",
       "      <td>458</td>\n",
       "    </tr>\n",
       "    <tr>\n",
       "      <th>3</th>\n",
       "      <td>VoiceBurma_21</td>\n",
       "      <td>VoiceBurma</td>\n",
       "      <td>2021-04-26 08:38:17</td>\n",
       "      <td>1386600424065536001</td>\n",
       "      <td>19</td>\n",
       "      <td>0</td>\n",
       "    </tr>\n",
       "    <tr>\n",
       "      <th>4</th>\n",
       "      <td>K Suresh</td>\n",
       "      <td>vzsuresh</td>\n",
       "      <td>2017-02-28 05:50:56</td>\n",
       "      <td>836453613207592961</td>\n",
       "      <td>96</td>\n",
       "      <td>17</td>\n",
       "    </tr>\n",
       "  </tbody>\n",
       "</table>\n",
       "</div>"
      ],
      "text/plain": [
       "                name      screen_name           created_at  \\\n",
       "0        The Academy       TheAcademy  2010-10-08 16:09:08   \n",
       "1  Sergio P.Burguera       PozaSergio  2020-12-27 19:12:36   \n",
       "2   Carmen Ava Maria  CarmenAvaMaria1  2018-11-05 12:20:13   \n",
       "3      VoiceBurma_21       VoiceBurma  2021-04-26 08:38:17   \n",
       "4           K Suresh         vzsuresh  2017-02-28 05:50:56   \n",
       "\n",
       "                    id  friends_count  followers_count  \n",
       "0            200163448           2185          3663377  \n",
       "1  1343273549428097027            512               20  \n",
       "2  1059420115094200320           1325              458  \n",
       "3  1386600424065536001             19                0  \n",
       "4   836453613207592961             96               17  "
      ]
     },
     "execution_count": 29,
     "metadata": {},
     "output_type": "execute_result"
    }
   ],
   "source": [
    "df_user_details.head()"
   ]
  },
  {
   "cell_type": "code",
   "execution_count": null,
   "metadata": {
    "id": "b2idi9T68KdV"
   },
   "outputs": [],
   "source": []
  },
  {
   "cell_type": "code",
   "execution_count": 30,
   "metadata": {
    "colab": {
     "base_uri": "https://localhost:8080/"
    },
    "id": "7lbS6Cyr3DOW",
    "outputId": "b606ec73-64a2-447d-8d68-02ca131ff679"
   },
   "outputs": [
    {
     "data": {
      "text/plain": [
       "(13, 6)"
      ]
     },
     "execution_count": 30,
     "metadata": {},
     "output_type": "execute_result"
    }
   ],
   "source": [
    "df_user_details.shape"
   ]
  },
  {
   "cell_type": "code",
   "execution_count": 31,
   "metadata": {
    "colab": {
     "base_uri": "https://localhost:8080/",
     "height": 204
    },
    "id": "Q4pf76sV3DOX",
    "outputId": "79793a25-7929-4267-8259-c7eaea206bd4"
   },
   "outputs": [
    {
     "data": {
      "text/html": [
       "<div>\n",
       "<style scoped>\n",
       "    .dataframe tbody tr th:only-of-type {\n",
       "        vertical-align: middle;\n",
       "    }\n",
       "\n",
       "    .dataframe tbody tr th {\n",
       "        vertical-align: top;\n",
       "    }\n",
       "\n",
       "    .dataframe thead th {\n",
       "        text-align: right;\n",
       "    }\n",
       "</style>\n",
       "<table border=\"1\" class=\"dataframe\">\n",
       "  <thead>\n",
       "    <tr style=\"text-align: right;\">\n",
       "      <th></th>\n",
       "      <th>id</th>\n",
       "      <th>followers</th>\n",
       "    </tr>\n",
       "  </thead>\n",
       "  <tbody>\n",
       "    <tr>\n",
       "      <th>0</th>\n",
       "      <td>200163448</td>\n",
       "      <td>1343273549428097027</td>\n",
       "    </tr>\n",
       "    <tr>\n",
       "      <th>1</th>\n",
       "      <td>200163448</td>\n",
       "      <td>1059420115094200320</td>\n",
       "    </tr>\n",
       "    <tr>\n",
       "      <th>2</th>\n",
       "      <td>200163448</td>\n",
       "      <td>1386600424065536001</td>\n",
       "    </tr>\n",
       "    <tr>\n",
       "      <th>3</th>\n",
       "      <td>200163448</td>\n",
       "      <td>836453613207592961</td>\n",
       "    </tr>\n",
       "    <tr>\n",
       "      <th>4</th>\n",
       "      <td>200163448</td>\n",
       "      <td>1244542608841400323</td>\n",
       "    </tr>\n",
       "  </tbody>\n",
       "</table>\n",
       "</div>"
      ],
      "text/plain": [
       "          id            followers\n",
       "0  200163448  1343273549428097027\n",
       "1  200163448  1059420115094200320\n",
       "2  200163448  1386600424065536001\n",
       "3  200163448   836453613207592961\n",
       "4  200163448  1244542608841400323"
      ]
     },
     "execution_count": 31,
     "metadata": {},
     "output_type": "execute_result"
    }
   ],
   "source": [
    "df_followers.head()"
   ]
  },
  {
   "cell_type": "code",
   "execution_count": 32,
   "metadata": {
    "colab": {
     "base_uri": "https://localhost:8080/"
    },
    "id": "6anx4rvN3DOX",
    "outputId": "c0e38be2-a3db-422d-e549-fc8e7737ea2c"
   },
   "outputs": [
    {
     "data": {
      "text/plain": [
       "(5621, 2)"
      ]
     },
     "execution_count": 32,
     "metadata": {},
     "output_type": "execute_result"
    }
   ],
   "source": [
    "df_followers.shape"
   ]
  },
  {
   "cell_type": "code",
   "execution_count": 33,
   "metadata": {
    "id": "vesEDvlU3DOY"
   },
   "outputs": [],
   "source": [
    "# df_followers2=df_followers.loc[3000:,:]"
   ]
  },
  {
   "cell_type": "code",
   "execution_count": 34,
   "metadata": {
    "colab": {
     "base_uri": "https://localhost:8080/",
     "height": 204
    },
    "id": "wsIZaj0Z3DOY",
    "outputId": "514aad10-8461-476f-b5ed-f3bd390ffc96"
   },
   "outputs": [
    {
     "data": {
      "text/html": [
       "<div>\n",
       "<style scoped>\n",
       "    .dataframe tbody tr th:only-of-type {\n",
       "        vertical-align: middle;\n",
       "    }\n",
       "\n",
       "    .dataframe tbody tr th {\n",
       "        vertical-align: top;\n",
       "    }\n",
       "\n",
       "    .dataframe thead th {\n",
       "        text-align: right;\n",
       "    }\n",
       "</style>\n",
       "<table border=\"1\" class=\"dataframe\">\n",
       "  <thead>\n",
       "    <tr style=\"text-align: right;\">\n",
       "      <th></th>\n",
       "      <th>id</th>\n",
       "    </tr>\n",
       "  </thead>\n",
       "  <tbody>\n",
       "    <tr>\n",
       "      <th>0</th>\n",
       "      <td>200163448</td>\n",
       "    </tr>\n",
       "    <tr>\n",
       "      <th>1</th>\n",
       "      <td>1343273549428097027</td>\n",
       "    </tr>\n",
       "    <tr>\n",
       "      <th>2</th>\n",
       "      <td>1059420115094200320</td>\n",
       "    </tr>\n",
       "    <tr>\n",
       "      <th>3</th>\n",
       "      <td>1386600424065536001</td>\n",
       "    </tr>\n",
       "    <tr>\n",
       "      <th>4</th>\n",
       "      <td>836453613207592961</td>\n",
       "    </tr>\n",
       "  </tbody>\n",
       "</table>\n",
       "</div>"
      ],
      "text/plain": [
       "                    id\n",
       "0            200163448\n",
       "1  1343273549428097027\n",
       "2  1059420115094200320\n",
       "3  1386600424065536001\n",
       "4   836453613207592961"
      ]
     },
     "execution_count": 34,
     "metadata": {},
     "output_type": "execute_result"
    }
   ],
   "source": [
    "df_skip.head()"
   ]
  },
  {
   "cell_type": "code",
   "execution_count": 35,
   "metadata": {
    "colab": {
     "base_uri": "https://localhost:8080/"
    },
    "id": "uMNF-hPg3DOY",
    "outputId": "c1fd78fc-e9de-44cd-b714-eab1a750c9c8"
   },
   "outputs": [
    {
     "data": {
      "text/plain": [
       "(14, 1)"
      ]
     },
     "execution_count": 35,
     "metadata": {},
     "output_type": "execute_result"
    }
   ],
   "source": [
    "df_skip.shape"
   ]
  },
  {
   "cell_type": "code",
   "execution_count": 36,
   "metadata": {
    "id": "aBqvKHQZ3DOZ"
   },
   "outputs": [],
   "source": [
    "\n",
    "df_followers.rename(columns = {'id':'source', 'followers':'target',\n",
    "                              }, inplace = True)"
   ]
  },
  {
   "cell_type": "code",
   "execution_count": 37,
   "metadata": {
    "id": "CRZCJ8XB3DOZ"
   },
   "outputs": [],
   "source": [
    "# API Authentication\n",
    "\n",
    "CONSUMER_KEY = 'hheqJPV07LZzIBCVGFEUt2ojI'\n",
    "CONSUMER_SECRET = 'X3x4ausVn0KYLmclg6pAnPp4esnJ532J6z2Sla3QB1yAr37VKl'\n",
    "ACCESS_TOKEN = '1065450120433553410-6H5N0JJYAdji06KNE3ozlgJj1zgeOL'\n",
    "ACCESS_TOKEN_SECRET = '5kCiBBcDGOfwkmORFHD4cVVaNOAujUu29ML087KXsLlTn'"
   ]
  },
  {
   "cell_type": "code",
   "execution_count": 38,
   "metadata": {
    "id": "SDXwpfLr3DOZ"
   },
   "outputs": [],
   "source": [
    "\n",
    "auth = tweepy.OAuthHandler(CONSUMER_KEY, CONSUMER_SECRET)\n",
    "auth.set_access_token(ACCESS_TOKEN, ACCESS_TOKEN_SECRET)\n",
    "\n",
    "api = tweepy.API(auth,wait_on_rate_limit=True,wait_on_rate_limit_notify=True)\n"
   ]
  },
  {
   "cell_type": "markdown",
   "metadata": {
    "id": "N-2glZns3DOa"
   },
   "source": [
    "#### alternatively - using the users ID "
   ]
  },
  {
   "cell_type": "code",
   "execution_count": null,
   "metadata": {
    "colab": {
     "base_uri": "https://localhost:8080/"
    },
    "id": "obtrotpt3DOa",
    "outputId": "0d6da210-93b1-4fc8-a567-538d4209b3c9"
   },
   "outputs": [],
   "source": [
    "user_list = [\"200163448\"] \n",
    "follower_list = []\n",
    "for user in user_list:\n",
    "    followers = []\n",
    "    try:\n",
    "        for page in tweepy.Cursor(api.followers_ids, user_id=user).pages():\n",
    "            followers.extend(page)\n",
    "            print(len(followers))\n",
    "    except tweepy.TweepError:\n",
    "        print(\"error\")\n",
    "        continue\n",
    "    follower_list.append(followers)"
   ]
  },
  {
   "cell_type": "code",
   "execution_count": null,
   "metadata": {
    "id": "02vK_qkc3DOa"
   },
   "outputs": [],
   "source": [
    "df = pd.DataFrame(columns=['source','target']) #Empty DataFrame\n",
    "df['target'] = follower_list[0] #Set the list of followers as the target column\n",
    "df['source'] = 1324592748 #Set my user ID as the source "
   ]
  },
  {
   "cell_type": "code",
   "execution_count": null,
   "metadata": {
    "id": "ul0008Di3DOb"
   },
   "outputs": [],
   "source": [
    "import networkx as nx\n",
    "G = nx.from_pandas_edgelist(df, 'source', 'target') #Turn df into graph\n",
    "pos = nx.spring_layout(G) #specify layout for visual"
   ]
  },
  {
   "cell_type": "code",
   "execution_count": null,
   "metadata": {
    "colab": {
     "base_uri": "https://localhost:8080/",
     "height": 470
    },
    "id": "f6-yp5yJ3DOb",
    "outputId": "4512f48f-5154-4a14-d886-d2bbcfd649d9"
   },
   "outputs": [],
   "source": [
    "import matplotlib.pyplot as plt\n",
    "f, ax = plt.subplots(figsize=(30, 10))\n",
    "plt.style.use('ggplot')\n",
    "nodes = nx.draw_networkx_nodes(G, pos,\n",
    "                               alpha=0.8)\n",
    "nodes.set_edgecolor('k')\n",
    "nx.draw_networkx_labels(G, pos, font_size=8)\n",
    "nx.draw_networkx_edges(G, pos, width=1.0, alpha=0.2)"
   ]
  },
  {
   "cell_type": "code",
   "execution_count": null,
   "metadata": {
    "id": "MEclfBWf3DOb"
   },
   "outputs": [],
   "source": [
    "ser_list = list(df_followers['target']) #Use the list of followers we extracted in the code above i.e. my 450 followers\n",
    "for userID in user_list:\n",
    "    print(userID)\n",
    "    followers = []\n",
    "    follower_list = []\n",
    "\n",
    "    # fetching the user\n",
    "    user = api.get_user(userID)\n",
    "\n",
    "    # fetching the followers_count\n",
    "    followers_count = user.followers_count\n",
    "\n",
    "    try:\n",
    "        for page in tweepy.Cursor(api.followers_ids, user_id=userID).pages():\n",
    "            followers.extend(page)\n",
    "            print(len(followers))\n",
    "            if followers_count >= 5000: #Only take first 5000 followers\n",
    "                break\n",
    "    except tweepy.TweepError:\n",
    "        print(\"error\")\n",
    "        continue\n",
    "    follower_list.append(followers)\n",
    "    temp = pd.DataFrame(columns=['source', 'target'])\n",
    "    temp['target'] = follower_list[0]\n",
    "    temp['source'] = userID\n",
    "    df = df.append(temp)\n",
    "    df.to_csv(\"networkOfFollowers.csv\")"
   ]
  },
  {
   "cell_type": "code",
   "execution_count": null,
   "metadata": {
    "id": "RweM-rgY8Ljf"
   },
   "outputs": [],
   "source": [
    "username = 'TheAcademy'\n",
    "count = 150\n",
    "try:     \n",
    " # Creation of query method using parameters\n",
    " tweets = tweepy.Cursor(api.user_timeline,id=username).items(count)\n",
    " \n",
    " # Pulling information from tweets iterable object\n",
    " tweets_list = [[tweet.created_at, tweet.id, tweet.text] for tweet in tweets]\n",
    " \n",
    " # Creation of dataframe from tweets list\n",
    " # Add or remove columns as you remove tweet information\n",
    " tweets_df = pd.DataFrame(tweets_list)\n",
    "except BaseException as e:\n",
    "      print('failed on_status,',str(e))\n",
    "      time.sleep(3)"
   ]
  },
  {
   "cell_type": "code",
   "execution_count": null,
   "metadata": {
    "colab": {
     "base_uri": "https://localhost:8080/",
     "height": 204
    },
    "id": "pwLc0_g78Lrd",
    "outputId": "006568cd-f750-4a9f-8c4d-8b6153973e77"
   },
   "outputs": [],
   "source": [
    "tweets_df.head()"
   ]
  },
  {
   "cell_type": "code",
   "execution_count": null,
   "metadata": {
    "id": "DL2FFH2T8LuD"
   },
   "outputs": [],
   "source": [
    "import re\n",
    "def clean_tweet(tweet):\n",
    "    return ' '.join(re.sub('(@[A-Za-z0-9]+)|([^0-9A-Za-z \\t])|(\\w+:\\/\\/\\S+)|([RT])', ' ', str(tweet).lower()).split())\n"
   ]
  },
  {
   "cell_type": "code",
   "execution_count": null,
   "metadata": {
    "id": "XFwDqbBl8Lzg"
   },
   "outputs": [],
   "source": [
    "# Funciton to analyze Sentiment\n",
    "\n",
    "from textblob import TextBlob\n",
    "def analyze_sentiment(tweet):\n",
    "    analysis = TextBlob(tweet)\n",
    "    if analysis.sentiment.polarity > 0:\n",
    "        return 'Positive'\n",
    "    elif analysis.sentiment.polarity == 0:\n",
    "        return 'Neutral'\n",
    "    else:\n",
    "        return 'Negative'"
   ]
  },
  {
   "cell_type": "code",
   "execution_count": null,
   "metadata": {
    "id": "lUbuAT8M8L2x"
   },
   "outputs": [],
   "source": [
    "\n",
    "def prepCloud(Topic_text,Topic):\n",
    "    Topic = str(Topic).lower()\n",
    "    Topic=' '.join(re.sub('([^0-9A-Za-z \\t])', ' ', Topic).split())\n",
    "    Topic = re.split(\"\\s+\",str(Topic))\n",
    "    stopwords = set(STOPWORDS)\n",
    "    stopwords.update(Topic) ### Add our topic in Stopwords, so it doesnt appear in wordClous\n",
    "    ###\n",
    "    text_new = \" \".join([txt for txt in Topic_text.split() if txt not in stopwords])\n",
    "    return text_new"
   ]
  },
  {
   "cell_type": "code",
   "execution_count": null,
   "metadata": {
    "id": "zDKtpiqq9UWR"
   },
   "outputs": [],
   "source": [
    "# Call function to get Clean tweets\n",
    "\n",
    "# tweets_df['clean'] = tweets_df['2'].apply(lambda x : clean_tweet(x))\n",
    "# tweets_df.head(5)\n",
    "\n",
    "\n",
    "tweets_df.rename(columns = {1:'Id', 2:'tweetraw'}, inplace = True)"
   ]
  },
  {
   "cell_type": "code",
   "execution_count": null,
   "metadata": {
    "colab": {
     "base_uri": "https://localhost:8080/",
     "height": 204
    },
    "id": "EaGtOXMO9UYu",
    "outputId": "c287dac6-a374-48c4-efcf-716132e5b112"
   },
   "outputs": [],
   "source": [
    "#Call function to get Clean tweets\n",
    "\n",
    "tweets_df['CleanTweet'] = tweets_df['tweetraw'].apply(lambda x : clean_tweet(x))\n",
    "tweets_df.head(5)"
   ]
  },
  {
   "cell_type": "code",
   "execution_count": null,
   "metadata": {
    "colab": {
     "base_uri": "https://localhost:8080/",
     "height": 204
    },
    "id": "tPN_NzUj9Ue2",
    "outputId": "c4d167c6-62bb-4216-951a-5cf91825c5a7"
   },
   "outputs": [],
   "source": [
    "tweets_df[\"Sentiment\"] = tweets_df[\"CleanTweet\"].apply(lambda x : analyze_sentiment(x))\n",
    "tweets_df.head(5)"
   ]
  },
  {
   "cell_type": "code",
   "execution_count": null,
   "metadata": {
    "colab": {
     "base_uri": "https://localhost:8080/"
    },
    "id": "nCEi5XJk9UiN",
    "outputId": "491b2094-d666-40d6-fc3c-40eea43010cc"
   },
   "outputs": [],
   "source": [
    "tweets_df[\"Sentiment\"].value_counts()"
   ]
  }
 ],
 "metadata": {
  "colab": {
   "collapsed_sections": [],
   "name": "Copy of read_rightwing01.ipynb",
   "provenance": []
  },
  "kernelspec": {
   "display_name": "Python 3",
   "language": "python",
   "name": "python3"
  }
 },
 "nbformat": 4,
 "nbformat_minor": 1
}
